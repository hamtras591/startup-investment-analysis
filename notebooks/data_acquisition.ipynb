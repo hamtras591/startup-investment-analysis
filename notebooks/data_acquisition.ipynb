{
 "cells": [
  {
   "metadata": {
    "ExecuteTime": {
     "end_time": "2025-10-22T23:31:48.104852Z",
     "start_time": "2025-10-22T23:31:47.591757Z"
    }
   },
   "cell_type": "code",
   "source": [
    "from src.data.data_loader import load_raw\n",
    "from src.data.kaggle_downloader import download_from_kaggle\n",
    "\n",
    "download_from_kaggle('yanmaksi/big-startup-secsees-fail-dataset-from-crunchbase')\n",
    "df = 'big_startup_secsees_dataset.csv'\n",
    "\n",
    "df_raw = load_raw(df)\n",
    "\n",
    "print(f\"✅ Data cargada. Filas: {df_raw.shape[0]}.\")\n",
    "df_raw.head()\n",
    "\n"
   ],
   "id": "3c03f841a17a0d93",
   "outputs": [
    {
     "name": "stdout",
     "output_type": "stream",
     "text": [
      "📂 Directorio data/raw/ detectado: D:\\00-bootcamp-ciencia-de-datos\\startup-investment-analysis\\data\\raw\n",
      "✅ Kaggle API autenticada correctamente\n",
      "📂 Descargas irán a: D:\\00-bootcamp-ciencia-de-datos\\startup-investment-analysis\\data\\raw\n",
      "\n",
      "======================================================================\n",
      "📥 DESCARGANDO DATASET DE KAGGLE\n",
      "======================================================================\n",
      "Dataset: yanmaksi/big-startup-secsees-fail-dataset-from-crunchbase\n",
      "Destino: D:\\00-bootcamp-ciencia-de-datos\\startup-investment-analysis\\data\\raw\\big-startup-secsees-fail-dataset-from-crunchbase\n",
      "\n",
      "✅ Dataset ya existe (1 archivos)\n",
      "\n",
      "📂 Archivos encontrados:\n",
      "   • big_startup_secsees_dataset.csv (10.44 MB)\n",
      "\n",
      "💡 Para forzar descarga, usa: force=True\n",
      "✅ Data cargada. Filas: 66368.\n"
     ]
    },
    {
     "data": {
      "text/plain": [
       "                             permalink                    name  \\\n",
       "0                  /organization/-fame                   #fame   \n",
       "1               /organization/-qounter                :Qounter   \n",
       "2  /organization/-the-one-of-them-inc-  (THE) ONE of THEM,Inc.   \n",
       "3                /organization/0-6-com                 0-6.com   \n",
       "4       /organization/004-technologies        004 Technologies   \n",
       "\n",
       "                        homepage_url  \\\n",
       "0                 http://livfame.com   \n",
       "1             http://www.qounter.com   \n",
       "2                http://oneofthem.jp   \n",
       "3                 http://www.0-6.com   \n",
       "4  http://004gmbh.de/en/004-interact   \n",
       "\n",
       "                                       category_list funding_total_usd  \\\n",
       "0                                              Media          10000000   \n",
       "1  Application Platforms|Real Time|Social Network...            700000   \n",
       "2                                  Apps|Games|Mobile           3406878   \n",
       "3                                        Curated Web           2000000   \n",
       "4                                           Software                 -   \n",
       "\n",
       "      status country_code state_code                 region           city  \\\n",
       "0  operating          IND         16                 Mumbai         Mumbai   \n",
       "1  operating          USA         DE             DE - Other  Delaware City   \n",
       "2  operating          NaN        NaN                    NaN            NaN   \n",
       "3  operating          CHN         22                Beijing        Beijing   \n",
       "4  operating          USA         IL  Springfield, Illinois      Champaign   \n",
       "\n",
       "   funding_rounds  founded_at first_funding_at last_funding_at  \n",
       "0               1         NaN       2015-01-05      2015-01-05  \n",
       "1               2  2014-09-04       2014-03-01      2014-10-14  \n",
       "2               1         NaN       2014-01-30      2014-01-30  \n",
       "3               1  2007-01-01       2008-03-19      2008-03-19  \n",
       "4               1  2010-01-01       2014-07-24      2014-07-24  "
      ],
      "text/html": [
       "<div>\n",
       "<style scoped>\n",
       "    .dataframe tbody tr th:only-of-type {\n",
       "        vertical-align: middle;\n",
       "    }\n",
       "\n",
       "    .dataframe tbody tr th {\n",
       "        vertical-align: top;\n",
       "    }\n",
       "\n",
       "    .dataframe thead th {\n",
       "        text-align: right;\n",
       "    }\n",
       "</style>\n",
       "<table border=\"1\" class=\"dataframe\">\n",
       "  <thead>\n",
       "    <tr style=\"text-align: right;\">\n",
       "      <th></th>\n",
       "      <th>permalink</th>\n",
       "      <th>name</th>\n",
       "      <th>homepage_url</th>\n",
       "      <th>category_list</th>\n",
       "      <th>funding_total_usd</th>\n",
       "      <th>status</th>\n",
       "      <th>country_code</th>\n",
       "      <th>state_code</th>\n",
       "      <th>region</th>\n",
       "      <th>city</th>\n",
       "      <th>funding_rounds</th>\n",
       "      <th>founded_at</th>\n",
       "      <th>first_funding_at</th>\n",
       "      <th>last_funding_at</th>\n",
       "    </tr>\n",
       "  </thead>\n",
       "  <tbody>\n",
       "    <tr>\n",
       "      <th>0</th>\n",
       "      <td>/organization/-fame</td>\n",
       "      <td>#fame</td>\n",
       "      <td>http://livfame.com</td>\n",
       "      <td>Media</td>\n",
       "      <td>10000000</td>\n",
       "      <td>operating</td>\n",
       "      <td>IND</td>\n",
       "      <td>16</td>\n",
       "      <td>Mumbai</td>\n",
       "      <td>Mumbai</td>\n",
       "      <td>1</td>\n",
       "      <td>NaN</td>\n",
       "      <td>2015-01-05</td>\n",
       "      <td>2015-01-05</td>\n",
       "    </tr>\n",
       "    <tr>\n",
       "      <th>1</th>\n",
       "      <td>/organization/-qounter</td>\n",
       "      <td>:Qounter</td>\n",
       "      <td>http://www.qounter.com</td>\n",
       "      <td>Application Platforms|Real Time|Social Network...</td>\n",
       "      <td>700000</td>\n",
       "      <td>operating</td>\n",
       "      <td>USA</td>\n",
       "      <td>DE</td>\n",
       "      <td>DE - Other</td>\n",
       "      <td>Delaware City</td>\n",
       "      <td>2</td>\n",
       "      <td>2014-09-04</td>\n",
       "      <td>2014-03-01</td>\n",
       "      <td>2014-10-14</td>\n",
       "    </tr>\n",
       "    <tr>\n",
       "      <th>2</th>\n",
       "      <td>/organization/-the-one-of-them-inc-</td>\n",
       "      <td>(THE) ONE of THEM,Inc.</td>\n",
       "      <td>http://oneofthem.jp</td>\n",
       "      <td>Apps|Games|Mobile</td>\n",
       "      <td>3406878</td>\n",
       "      <td>operating</td>\n",
       "      <td>NaN</td>\n",
       "      <td>NaN</td>\n",
       "      <td>NaN</td>\n",
       "      <td>NaN</td>\n",
       "      <td>1</td>\n",
       "      <td>NaN</td>\n",
       "      <td>2014-01-30</td>\n",
       "      <td>2014-01-30</td>\n",
       "    </tr>\n",
       "    <tr>\n",
       "      <th>3</th>\n",
       "      <td>/organization/0-6-com</td>\n",
       "      <td>0-6.com</td>\n",
       "      <td>http://www.0-6.com</td>\n",
       "      <td>Curated Web</td>\n",
       "      <td>2000000</td>\n",
       "      <td>operating</td>\n",
       "      <td>CHN</td>\n",
       "      <td>22</td>\n",
       "      <td>Beijing</td>\n",
       "      <td>Beijing</td>\n",
       "      <td>1</td>\n",
       "      <td>2007-01-01</td>\n",
       "      <td>2008-03-19</td>\n",
       "      <td>2008-03-19</td>\n",
       "    </tr>\n",
       "    <tr>\n",
       "      <th>4</th>\n",
       "      <td>/organization/004-technologies</td>\n",
       "      <td>004 Technologies</td>\n",
       "      <td>http://004gmbh.de/en/004-interact</td>\n",
       "      <td>Software</td>\n",
       "      <td>-</td>\n",
       "      <td>operating</td>\n",
       "      <td>USA</td>\n",
       "      <td>IL</td>\n",
       "      <td>Springfield, Illinois</td>\n",
       "      <td>Champaign</td>\n",
       "      <td>1</td>\n",
       "      <td>2010-01-01</td>\n",
       "      <td>2014-07-24</td>\n",
       "      <td>2014-07-24</td>\n",
       "    </tr>\n",
       "  </tbody>\n",
       "</table>\n",
       "</div>"
      ]
     },
     "execution_count": 17,
     "metadata": {},
     "output_type": "execute_result"
    }
   ],
   "execution_count": 17
  },
  {
   "metadata": {
    "ExecuteTime": {
     "end_time": "2025-10-22T23:49:52.614461Z",
     "start_time": "2025-10-22T23:49:50.810749Z"
    }
   },
   "cell_type": "code",
   "source": [
    "from src.data.kaggle_downloader import download_from_kaggle\n",
    "download_from_kaggle(\"jaderz/hospital-beds-management\", destination_folder=\"perro_hpta\")"
   ],
   "id": "9076949424c6ac1b",
   "outputs": [
    {
     "name": "stdout",
     "output_type": "stream",
     "text": [
      "📂 Directorio data/raw/ detectado: D:\\00-bootcamp-ciencia-de-datos\\startup-investment-analysis\\data\\raw\n",
      "✅ Kaggle API autenticada correctamente\n",
      "📂 Descargas irán a: D:\\00-bootcamp-ciencia-de-datos\\startup-investment-analysis\\data\\raw\n",
      "\n",
      "======================================================================\n",
      "📥 DESCARGANDO DATASET DE KAGGLE\n",
      "======================================================================\n",
      "Dataset: jaderz/hospital-beds-management\n",
      "Destino: D:\\00-bootcamp-ciencia-de-datos\\startup-investment-analysis\\data\\raw\\perro_hpta\n",
      "\n",
      "⏳ Descargando... (esto puede tardar varios minutos)\n",
      "Dataset URL: https://www.kaggle.com/datasets/jaderz/hospital-beds-management\n",
      "Downloading hospital-beds-management.zip to D:\\00-bootcamp-ciencia-de-datos\\startup-investment-analysis\\data\\raw\\_temp_hospital-beds-management\n"
     ]
    },
    {
     "name": "stderr",
     "output_type": "stream",
     "text": [
      "100%|██████████| 46.5k/46.5k [00:00<00:00, 22.9MB/s]"
     ]
    },
    {
     "name": "stdout",
     "output_type": "stream",
     "text": [
      "\n",
      "\n",
      "✅ Descarga completada\n",
      "\n",
      "📂 Archivos descargados (4):\n",
      "   • patients.csv (0.06 MB)\n",
      "   • services_weekly.csv (0.01 MB)\n",
      "   • staff.csv (0.00 MB)\n",
      "   • staff_schedule.csv (0.32 MB)\n",
      "\n",
      "📍 Ubicación: D:\\00-bootcamp-ciencia-de-datos\\startup-investment-analysis\\data\\raw\\perro_hpta\n"
     ]
    },
    {
     "name": "stderr",
     "output_type": "stream",
     "text": [
      "\n"
     ]
    },
    {
     "data": {
      "text/plain": [
       "WindowsPath('D:/00-bootcamp-ciencia-de-datos/startup-investment-analysis/data/raw/perro_hpta')"
      ]
     },
     "execution_count": 19,
     "metadata": {},
     "output_type": "execute_result"
    }
   ],
   "execution_count": 19
  }
 ],
 "metadata": {
  "kernelspec": {
   "display_name": "Python 3",
   "language": "python",
   "name": "python3"
  },
  "language_info": {
   "codemirror_mode": {
    "name": "ipython",
    "version": 2
   },
   "file_extension": ".py",
   "mimetype": "text/x-python",
   "name": "python",
   "nbconvert_exporter": "python",
   "pygments_lexer": "ipython2",
   "version": "2.7.6"
  }
 },
 "nbformat": 4,
 "nbformat_minor": 5
}
